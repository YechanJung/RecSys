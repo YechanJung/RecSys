{
 "cells": [
  {
   "cell_type": "markdown",
   "metadata": {},
   "source": [
    "# User Engagement Data"
   ]
  },
  {
   "cell_type": "code",
   "execution_count": null,
   "metadata": {},
   "outputs": [],
   "source": [
    "from elasticsearch import Elasticsearch\n",
    "\n",
    "es_client = Elasticsearch(\n",
    "    \"http://localhost:9200\",\n",
    "    basic_auth=(\"elastic\", \"password\"),\n",
    "    verify_certs=False,\n",
    "    ssl_show_warn=False\n",
    ")\n",
    "\n",
    "# Retrieve ABO data\n",
    "q = {\n",
    "    \"size\" : 1000,\n",
    "    \"query\": {\n",
    "        \"query_string\": {\n",
    "            \"query\": \"desk\",\n",
    "        }\n",
    "    }\n",
    "}\n",
    "\n",
    "result = es_client.search(index=\"product\", body=q)\n",
    "hits = result['hits']\n",
    "products = [hit['_source'] for hit in hits['hits']]\n",
    "products"
   ]
  }
 ],
 "metadata": {
  "language_info": {
   "name": "python"
  }
 },
 "nbformat": 4,
 "nbformat_minor": 2
}
